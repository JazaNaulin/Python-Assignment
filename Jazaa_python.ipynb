{
  "nbformat": 4,
  "nbformat_minor": 0,
  "metadata": {
    "colab": {
      "provenance": []
    },
    "kernelspec": {
      "name": "python3",
      "display_name": "Python 3"
    },
    "language_info": {
      "name": "python"
    }
  },
  "cells": [
    {
      "cell_type": "code",
      "execution_count": null,
      "metadata": {
        "colab": {
          "base_uri": "https://localhost:8080/"
        },
        "id": "Pd1npynkprGl",
        "outputId": "28436faf-ff23-46c5-8cda-202701d8ae60"
      },
      "outputs": [
        {
          "output_type": "execute_result",
          "data": {
            "text/plain": [
              "3.141592653589793"
            ]
          },
          "metadata": {},
          "execution_count": 6
        }
      ],
      "source": [
        "# find the area of the circle with r = 6\n",
        "import math\n",
        "math.pi"
      ]
    },
    {
      "cell_type": "code",
      "source": [
        "r = 6\n",
        "print('Area is:',math.pi*r**2)"
      ],
      "metadata": {
        "colab": {
          "base_uri": "https://localhost:8080/"
        },
        "id": "RzGmj5aKp2Os",
        "outputId": "5c497417-81a2-4795-dfe4-bad1cced1676"
      },
      "execution_count": null,
      "outputs": [
        {
          "output_type": "stream",
          "name": "stdout",
          "text": [
            "Area is: 113.09733552923255\n"
          ]
        }
      ]
    },
    {
      "cell_type": "code",
      "source": [
        "# to convert celsius to fahrenhit\n",
        "#formula = (c*9/5)+32"
      ],
      "metadata": {
        "id": "iO5zGstArPeN"
      },
      "execution_count": null,
      "outputs": []
    },
    {
      "cell_type": "code",
      "source": [
        "a = int(input('Enter the  celsius number: '))\n",
        "F = (a*9/5)+32\n",
        "print('celcius to fahrenhit:',(F))"
      ],
      "metadata": {
        "colab": {
          "base_uri": "https://localhost:8080/"
        },
        "id": "ASnmdtIxsovt",
        "outputId": "73710036-bc57-458c-9aae-cc4275685078"
      },
      "execution_count": null,
      "outputs": [
        {
          "output_type": "stream",
          "name": "stdout",
          "text": [
            "Enter the  celsius number: 40\n",
            "celcius to fahrenhit: 104.0\n"
          ]
        }
      ]
    },
    {
      "cell_type": "code",
      "source": [
        "# write a python program to find the quotiend and remainder of two numbers using the division operator/ and the modulo operator %."
      ],
      "metadata": {
        "id": "6LoVndWCsrNd"
      },
      "execution_count": null,
      "outputs": []
    },
    {
      "cell_type": "code",
      "source": [
        "dividend = 10\n",
        "divisor = 3\n",
        "quotient = dividend / divisor\n",
        "remainder = dividend % divisor\n",
        "print(\"The quotient is\", quotient)\n",
        "print(\"The remainder is\",remainder)"
      ],
      "metadata": {
        "colab": {
          "base_uri": "https://localhost:8080/"
        },
        "id": "lXDqwGOkqG6M",
        "outputId": "c364ed47-9518-494a-abfb-eee26c1cb7e3"
      },
      "execution_count": null,
      "outputs": [
        {
          "output_type": "stream",
          "name": "stdout",
          "text": [
            "The quotient is 3.3333333333333335\n",
            "The remainder is 1\n"
          ]
        }
      ]
    },
    {
      "cell_type": "code",
      "source": [
        "# write a python program to check whether a given number is even or odd using the modulo operator%."
      ],
      "metadata": {
        "id": "J4Ry8uz1akcU"
      },
      "execution_count": null,
      "outputs": []
    },
    {
      "cell_type": "code",
      "source": [
        "number = 20\n",
        "if number % 2 == 0:\n",
        "    print(\"The number is even.\")\n",
        "else:\n",
        "    print(\"The given number is odd.\")"
      ],
      "metadata": {
        "colab": {
          "base_uri": "https://localhost:8080/"
        },
        "id": "Oj0kdMzLbl0s",
        "outputId": "0af1e176-4f36-4384-89e0-7d832764a6cf"
      },
      "execution_count": null,
      "outputs": [
        {
          "output_type": "stream",
          "name": "stdout",
          "text": [
            "The number is even.\n"
          ]
        }
      ]
    },
    {
      "cell_type": "code",
      "source": [
        "# write a python program to calculate the average of three numbers enterd by the user."
      ],
      "metadata": {
        "id": "Gq_W1gvob5Ju"
      },
      "execution_count": null,
      "outputs": []
    },
    {
      "cell_type": "code",
      "source": [
        "num1 = 20\n",
        "num2 = 40\n",
        "num3 = 60\n",
        "average = (num1 + num2 + num3)/3\n",
        "print(\"The average of the three numbers is\",average)"
      ],
      "metadata": {
        "colab": {
          "base_uri": "https://localhost:8080/"
        },
        "id": "JOv2v6Kddkvc",
        "outputId": "613edf74-da22-4a3e-cb42-f1897d70f11a"
      },
      "execution_count": null,
      "outputs": [
        {
          "output_type": "stream",
          "name": "stdout",
          "text": [
            "The average of the three numbers is 40.0\n"
          ]
        }
      ]
    },
    {
      "cell_type": "code",
      "source": [
        "# write  a python programe to swap two veriables without using a temporary variable ."
      ],
      "metadata": {
        "id": "CQRCxAr3d5p6"
      },
      "execution_count": null,
      "outputs": []
    },
    {
      "cell_type": "code",
      "source": [
        "x = 30\n",
        "y = 40\n",
        "x = x^y\n",
        "y = x^y\n",
        "print(\"The value of x is\",x)\n",
        "print(\"The value of y is\",y)"
      ],
      "metadata": {
        "colab": {
          "base_uri": "https://localhost:8080/"
        },
        "id": "kVrLFS6wfy4D",
        "outputId": "170539ba-ed90-4203-8899-b15244a1d530"
      },
      "execution_count": null,
      "outputs": [
        {
          "output_type": "stream",
          "name": "stdout",
          "text": [
            "The value of x is 54\n",
            "The value of y is 30\n"
          ]
        }
      ]
    },
    {
      "cell_type": "code",
      "source": [
        "# writw a python programe to calculate the area of a rectangle with thw given length and breadth.\n"
      ],
      "metadata": {
        "id": "uJhPpAv-f-rA"
      },
      "execution_count": null,
      "outputs": []
    },
    {
      "cell_type": "code",
      "source": [
        "length = 10\n",
        "breadth = 5\n",
        "area = length*breadth\n",
        "print(\"The area of the rectangle is\",area)"
      ],
      "metadata": {
        "colab": {
          "base_uri": "https://localhost:8080/"
        },
        "id": "05QVN_aRgbwl",
        "outputId": "6def1bf6-6288-49fe-f785-0b892278b9ed"
      },
      "execution_count": null,
      "outputs": [
        {
          "output_type": "stream",
          "name": "stdout",
          "text": [
            "The area of the rectangle is 50\n"
          ]
        }
      ]
    },
    {
      "cell_type": "code",
      "source": [
        "# write a python programe to calculate the sum of the digits of a three-digit number."
      ],
      "metadata": {
        "id": "C6Xi9Nebgrtf"
      },
      "execution_count": null,
      "outputs": []
    },
    {
      "cell_type": "code",
      "source": [
        "num = 479\n",
        "sum_of_digits = number//100+(number%100)//10+number%10\n",
        "print(\"The sum of digits of the number is\",sum_of_digits)"
      ],
      "metadata": {
        "colab": {
          "base_uri": "https://localhost:8080/"
        },
        "id": "Ym9eGiDTkLJL",
        "outputId": "e824e55f-0a34-4d1e-f639-763dadd4e704"
      },
      "execution_count": null,
      "outputs": [
        {
          "output_type": "stream",
          "name": "stdout",
          "text": [
            "The sum of digits of the number is 2\n"
          ]
        }
      ]
    },
    {
      "cell_type": "code",
      "source": [
        "# write a python programe to check whether a given year is a leap year or not."
      ],
      "metadata": {
        "id": "LI6DkU2uk6_y"
      },
      "execution_count": null,
      "outputs": []
    },
    {
      "cell_type": "code",
      "source": [
        "yr=int(input(\"Enter the year:\"))\n",
        "if yr%4==0 and yr%100 !=0 or yr%400==0:\n",
        "  print(yr,\"is a leap year\")\n",
        "else:\n",
        "  print(yr,\"is not a leap year\")"
      ],
      "metadata": {
        "colab": {
          "base_uri": "https://localhost:8080/"
        },
        "id": "X_KiuRIclFSX",
        "outputId": "52632335-cc37-4d15-e9f1-0e5803e61512"
      },
      "execution_count": null,
      "outputs": [
        {
          "output_type": "stream",
          "name": "stdout",
          "text": [
            "Enter the year:2024\n",
            "2024 is a leap year\n"
          ]
        }
      ]
    },
    {
      "cell_type": "code",
      "source": [
        " # write a python programe to find the maximum and minimum of teo numbers enterd by the user."
      ],
      "metadata": {
        "id": "yPw8FlJ4lyGQ"
      },
      "execution_count": null,
      "outputs": []
    },
    {
      "cell_type": "code",
      "source": [
        "import math\n",
        "a = int(input(\"Enter the first number:\"))\n",
        "b = int(input(\"Enter the second number:\"))\n",
        "if a>b:\n",
        "  max = a\n",
        "  min = b\n",
        "else:\n",
        "  max = b\n",
        "  min = a\n",
        "  print(\"The maximum of\",a,\"and\",b,\"is:\",max)\n",
        "  print(\"The minimum of\",a,\"and\",b,\"is:\",min)"
      ],
      "metadata": {
        "colab": {
          "base_uri": "https://localhost:8080/"
        },
        "id": "xy_H3HnPntDf",
        "outputId": "97298ac0-551f-43e8-8e06-6ff3512173ed"
      },
      "execution_count": null,
      "outputs": [
        {
          "output_type": "stream",
          "name": "stdout",
          "text": [
            "Enter the first number:4\n",
            "Enter the second number:8\n",
            "The maximum of 4 and 8 is: 8\n",
            "The minimum of 4 and 8 is: 4\n"
          ]
        }
      ]
    },
    {
      "cell_type": "code",
      "source": [],
      "metadata": {
        "id": "83aCoUFxpFJX"
      },
      "execution_count": null,
      "outputs": []
    }
  ]
}